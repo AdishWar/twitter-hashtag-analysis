{
  "nbformat": 4,
  "nbformat_minor": 0,
  "metadata": {
    "colab": {
      "name": "twitter-hashtag-analysis.ipynb",
      "provenance": [],
      "collapsed_sections": [],
      "authorship_tag": "ABX9TyMPhSQ79+2cd2cgUGOvSVRQ",
      "include_colab_link": true
    },
    "kernelspec": {
      "name": "python3",
      "display_name": "Python 3"
    }
  },
  "cells": [
    {
      "cell_type": "markdown",
      "metadata": {
        "id": "view-in-github",
        "colab_type": "text"
      },
      "source": [
        "<a href=\"https://colab.research.google.com/github/AdishWar/twitter-hashtag-analysis/blob/master/twitter_hashtag_analysis.ipynb\" target=\"_parent\"><img src=\"https://colab.research.google.com/assets/colab-badge.svg\" alt=\"Open In Colab\"/></a>"
      ]
    },
    {
      "cell_type": "code",
      "metadata": {
        "id": "JYGq2OWP3WBA",
        "colab_type": "code",
        "colab": {
          "base_uri": "https://localhost:8080/",
          "height": 34
        },
        "outputId": "fe53f984-3bbf-47a4-8ecd-a555430f1cec"
      },
      "source": [
        "from google.colab import drive\n",
        "drive.mount('/content/drive')"
      ],
      "execution_count": null,
      "outputs": [
        {
          "output_type": "stream",
          "text": [
            "Drive already mounted at /content/drive; to attempt to forcibly remount, call drive.mount(\"/content/drive\", force_remount=True).\n"
          ],
          "name": "stdout"
        }
      ]
    },
    {
      "cell_type": "code",
      "metadata": {
        "id": "syIQzk0N0pBD",
        "colab_type": "code",
        "colab": {}
      },
      "source": [
        "import pandas as pd\n",
        "secrets = pd.read_csv('/content/drive/My Drive/Colab Notebooks/Twitter Data/secrets.csv')"
      ],
      "execution_count": null,
      "outputs": []
    },
    {
      "cell_type": "code",
      "metadata": {
        "id": "a4ASWWAfH45j",
        "colab_type": "code",
        "colab": {}
      },
      "source": [
        "import tweepy\n",
        "\n",
        "apiKey = secrets['apiKey'][0]\n",
        "apiSecretKey = secrets['apiSecretKey'][0]\n",
        "accessToken = secrets['accessToken'][0]\n",
        "accessTokenSecret = secrets['accessTokenSecret'][0]\n",
        "\n",
        "auth = tweepy.OAuthHandler(apiKey, apiSecretKey)\n",
        "auth.set_access_token(accessToken, accessTokenSecret)\n",
        "api = tweepy.API(auth)"
      ],
      "execution_count": null,
      "outputs": []
    },
    {
      "cell_type": "code",
      "metadata": {
        "id": "KJtqLmBxk66l",
        "colab_type": "code",
        "colab": {
          "base_uri": "https://localhost:8080/",
          "height": 51
        },
        "outputId": "700c62a1-d943-4e82-b123-41afacd7752f"
      },
      "source": [
        "\n",
        "# the only variables that need to be changed\n",
        "query = \"  \"\n",
        "numOfTweets = 300\n",
        "\n",
        "# initialize empty lists to store data\n",
        "tweetAuthor = []\n",
        "tweetid = []\n",
        "tweetText = []\n",
        "tweetURL = []\n",
        "tweetIsRT = []\n",
        "tweetCreatedAt = []\n",
        "\n",
        "# fetch tweets\n",
        "tweets = tweepy.Cursor(api.search, q=query, tweet_mode=\"extended\").items(numOfTweets)\n",
        "\n",
        "n_tweetsProcessed = 0\n",
        "try:\n",
        "    # loop through fetched tweets and append data to lists\n",
        "    for tweet in tweets:\n",
        "        tweetid.append(tweet.id)\n",
        "        tweetAuthor.append(tweet.user.screen_name)\n",
        "        tweetText.append(tweet.full_text)\n",
        "        tweetURL.append('twitter.com/' + tweet.user.screen_name + '/status/' + tweet.id_str)\n",
        "        if tweet.full_text.startswith('RT'):\n",
        "            tweetIsRT.append('t')\n",
        "        else:\n",
        "            tweetIsRT.append('f')\n",
        "        tweetCreatedAt.append(tweet.created_at)\n",
        "        n_tweetsProcessed += 1\n",
        "\n",
        "except(tweepy.TweepError):\n",
        "    print(\"TweepError\")\n",
        "\n",
        "# create dict with data\n",
        "data = {\n",
        "    'id': tweetid,\n",
        "    'user': tweetAuthor,\n",
        "    'created_at': tweetCreatedAt,\n",
        "    'is_RT': tweetIsRT,\n",
        "    'text': tweetText,\n",
        "    'url': tweetURL\n",
        "}\n",
        "\n",
        "print(\"Tweets processed: \", n_tweetsProcessed)\n",
        "print('DONE')\n"
      ],
      "execution_count": null,
      "outputs": [
        {
          "output_type": "stream",
          "text": [
            "Tweets processed:  23\n",
            "DONE\n"
          ],
          "name": "stdout"
        }
      ]
    },
    {
      "cell_type": "code",
      "metadata": {
        "id": "IIaMd86ExzUK",
        "colab_type": "code",
        "colab": {}
      },
      "source": [
        "df = pd.DataFrame(data)\n",
        "\n",
        "# df[df.is_RT == 'f']\n",
        "df\n"
      ],
      "execution_count": null,
      "outputs": []
    },
    {
      "cell_type": "code",
      "metadata": {
        "id": "zsmolysIiZK_",
        "colab_type": "code",
        "colab": {}
      },
      "source": [
        "\n",
        "import pandas as pd\n",
        "\n",
        "# df = pd.DataFrame(data, index=tweetid)\n",
        "df = pd.DataFrame(data)\n",
        "\n",
        "df.to_csv('/content/drive/My Drive/Colab Notebooks/Twitter Data/RamMandirORHospital.csv', index=False, mode='a')\n",
        "\n",
        "# to flush and unmount Google Drive\n",
        "# drive.flush_and_unmount()\n",
        "# print('All changes made in this colab session should now be visible in Drive.')\n"
      ],
      "execution_count": null,
      "outputs": []
    },
    {
      "cell_type": "code",
      "metadata": {
        "id": "dEKDX99jnFUC",
        "colab_type": "code",
        "colab": {
          "base_uri": "https://localhost:8080/",
          "height": 85
        },
        "outputId": "a73e73f6-229e-4133-c002-07cfab587cfd"
      },
      "source": [
        "\n",
        "df1 = pd.read_csv('/content/drive/My Drive/Colab Notebooks/Twitter Data/out.csv')\n",
        "df2 = pd.read_csv('/content/drive/My Drive/Colab Notebooks/Twitter Data/out2000.csv')\n",
        "df3 = pd.read_csv('/content/drive/My Drive/Colab Notebooks/Twitter Data/out2500.csv')\n",
        "print('DF 1 shape: ', df1.shape)\n",
        "print('DF 2 shape: ', df2.shape)\n",
        "print('DF 3 shape: ', df3.shape)\n",
        "\n",
        "df123 = pd.concat([df1, df2, df3], verify_integrity=False)\n",
        "\n",
        "df12_clean = df123.drop_duplicates(subset=['id'], keep='first')\n",
        "print('DF cleaned shape: ', df12_clean.shape)\n",
        "\n",
        "df12.to_csv('/content/drive/My Drive/Colab Notebooks/Twitter Data/SubramanianSwamy.csv', index=False)\n"
      ],
      "execution_count": null,
      "outputs": [
        {
          "output_type": "stream",
          "text": [
            "DF 1 shape:  (2000, 4)\n",
            "DF 2 shape:  (2000, 4)\n",
            "DF 3 shape:  (2000, 4)\n",
            "DF cleaned shape:  (2343, 4)\n"
          ],
          "name": "stdout"
        }
      ]
    },
    {
      "cell_type": "code",
      "metadata": {
        "id": "N3DmmPgKMB9s",
        "colab_type": "code",
        "colab": {
          "base_uri": "https://localhost:8080/",
          "height": 34
        },
        "outputId": "2fd2c157-504e-48fa-8f7e-dc17e09ebdb2"
      },
      "source": [
        "import datetime\n",
        "now = datetime.datetime.now()\n",
        "\n",
        "qq = api.get_status(1232658272030777345)\n",
        "tc = qq.created_at\n",
        "\n",
        "now - tc\n",
        "\n"
      ],
      "execution_count": null,
      "outputs": [
        {
          "output_type": "execute_result",
          "data": {
            "text/plain": [
              "datetime.timedelta(0, 10067, 646708)"
            ]
          },
          "metadata": {
            "tags": []
          },
          "execution_count": 39
        }
      ]
    },
    {
      "cell_type": "code",
      "metadata": {
        "id": "pFP_-7bUW2_x",
        "colab_type": "code",
        "colab": {}
      },
      "source": [
        "# clean one column of a csv\n",
        "\n",
        "df11 = pd.read_csv('/content/drive/My Drive/Colab Notebooks/Twitter Data/out_DelhiBurning50.csv')\n",
        "df11.shape\n",
        "\n",
        "textcol = df11.text\n",
        "textcol[1]\n",
        "\n",
        "rtarray = []\n",
        "for i in textcol:\n",
        "    if i.startswith('RT'):\n",
        "        rtarray.append('t')\n",
        "    else:\n",
        "        rtarray.append('f')\n",
        "\n",
        "data = {\n",
        "    'id': df11.id,\n",
        "    'user': df11.user,\n",
        "    'created_at': df11.created_at,\n",
        "    'is_RT': rtarray,\n",
        "    'text': df11.text,\n",
        "    'url': df11.url\n",
        "}\n",
        "\n",
        "df = pd.DataFrame(data)\n",
        "df.drop_duplicates(subset=['id'], keep='first')\n",
        "\n",
        "df.to_csv('/content/drive/My Drive/Colab Notebooks/Twitter Data/out_DelhiBurning_clean.csv', index=False, mode='a')"
      ],
      "execution_count": null,
      "outputs": []
    }
  ]
}