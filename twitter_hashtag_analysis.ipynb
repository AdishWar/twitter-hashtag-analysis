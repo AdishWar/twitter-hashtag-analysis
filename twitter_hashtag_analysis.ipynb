{
  "nbformat": 4,
  "nbformat_minor": 0,
  "metadata": {
    "colab": {
      "name": "twitter-hashtag-analysis.ipynb",
      "provenance": [],
      "collapsed_sections": [],
      "authorship_tag": "ABX9TyOJS/Cg3mICyXGWW6WUljwz",
      "include_colab_link": true
    },
    "kernelspec": {
      "name": "python3",
      "display_name": "Python 3"
    }
  },
  "cells": [
    {
      "cell_type": "markdown",
      "metadata": {
        "id": "view-in-github",
        "colab_type": "text"
      },
      "source": [
        "<a href=\"https://colab.research.google.com/github/AdishWar/twitter-hashtag-analysis/blob/master/twitter_hashtag_analysis.ipynb\" target=\"_parent\"><img src=\"https://colab.research.google.com/assets/colab-badge.svg\" alt=\"Open In Colab\"/></a>"
      ]
    },
    {
      "cell_type": "code",
      "metadata": {
        "id": "a4ASWWAfH45j",
        "colab_type": "code",
        "colab": {}
      },
      "source": [
        "import tweepy\n",
        "\n",
        "apiKey = \"n5DtlHp4ouj99eUxZ4XCctaQG\"\n",
        "apiSecretKey = \"Gjqq6uOJSlY8oyIQ7CurrRJj24zWJv0gVIv1HgEEUfqxDxMo9Q\"\n",
        "accessToken = \"2897708918-gTDZ4ki1RWp5xkrQa5U9U5wGyx6GoeVRfXXH1v5\"\n",
        "accessTokenSecret = \"ALNz1wXvgczsuWOkf1V4ZMMfnYIIQJipss4iQX1yCu6U0\"\n",
        "\n",
        "auth = tweepy.OAuthHandler(apiKey, apiSecretKey)\n",
        "auth.set_access_token(accessToken, accessTokenSecret)\n",
        "api = tweepy.API(auth)"
      ],
      "execution_count": 0,
      "outputs": []
    },
    {
      "cell_type": "code",
      "metadata": {
        "id": "JYGq2OWP3WBA",
        "colab_type": "code",
        "outputId": "857e3b37-6c02-40ae-bcf9-e76d628ee910",
        "colab": {
          "base_uri": "https://localhost:8080/",
          "height": 122
        }
      },
      "source": [
        "\n",
        "from google.colab import drive\n",
        "drive.mount('/content/drive')\n"
      ],
      "execution_count": 6,
      "outputs": [
        {
          "output_type": "stream",
          "text": [
            "Go to this URL in a browser: https://accounts.google.com/o/oauth2/auth?client_id=947318989803-6bn6qk8qdgf4n4g3pfee6491hc0brc4i.apps.googleusercontent.com&redirect_uri=urn%3aietf%3awg%3aoauth%3a2.0%3aoob&response_type=code&scope=email%20https%3a%2f%2fwww.googleapis.com%2fauth%2fdocs.test%20https%3a%2f%2fwww.googleapis.com%2fauth%2fdrive%20https%3a%2f%2fwww.googleapis.com%2fauth%2fdrive.photos.readonly%20https%3a%2f%2fwww.googleapis.com%2fauth%2fpeopleapi.readonly\n",
            "\n",
            "Enter your authorization code:\n",
            "··········\n",
            "Mounted at /content/drive\n"
          ],
          "name": "stdout"
        }
      ]
    },
    {
      "cell_type": "code",
      "metadata": {
        "id": "KJtqLmBxk66l",
        "colab_type": "code",
        "outputId": "b2323a1e-d253-4c99-f90d-bff73bda1adb",
        "colab": {
          "base_uri": "https://localhost:8080/",
          "height": 34
        }
      },
      "source": [
        "\n",
        "# only variables that need to be changed\n",
        "query = \"#SubramanianSwamy\"\n",
        "numOfTweets = 2000\n",
        "\n",
        "# initialize empty lists to store data\n",
        "tweetAuthor = []\n",
        "tweetid = []\n",
        "tweetText = []\n",
        "tweetURL = []\n",
        "\n",
        "# fetch tweets\n",
        "tweets = tweepy.Cursor(api.search, q=query, tweet_mode=\"extended\").items(numOfTweets)\n",
        "\n",
        "# loop through fetched tweets and append data to lists\n",
        "for tweet in tweets:\n",
        "    tweetid.append(tweet.id)\n",
        "    tweetAuthor.append(tweet.user.screen_name)\n",
        "    tweetText.append(tweet.full_text)\n",
        "    tweetURL.append('twitter.com/' + tweet.user.screen_name + '/status/' + tweet.id_str)\n",
        "\n",
        "# create dict with data\n",
        "data = {\n",
        "    'id': tweetid,\n",
        "    'user': tweetAuthor,\n",
        "    'text': tweetText,\n",
        "    'url': tweetURL,\n",
        "}\n",
        "\n",
        "print('DONE')\n"
      ],
      "execution_count": 13,
      "outputs": [
        {
          "output_type": "stream",
          "text": [
            "DONE\n"
          ],
          "name": "stdout"
        }
      ]
    },
    {
      "cell_type": "code",
      "metadata": {
        "id": "zsmolysIiZK_",
        "colab_type": "code",
        "colab": {}
      },
      "source": [
        "\n",
        "import pandas as pd\n",
        "\n",
        "# df = pd.DataFrame(data, index=tweetid)\n",
        "df = pd.DataFrame(data)\n",
        "\n",
        "\n",
        "# df.to_csv('C:/Users/admin/Downloads/out.csv', index=False)\n",
        "df.to_csv('/content/drive/My Drive/Colab Notebooks/Twitter Data/out2000.csv', index=False)\n",
        "\n",
        "# to flush and unmount Google Drive\n",
        "# drive.flush_and_unmount()\n",
        "# print('All changes made in this colab session should now be visible in Drive.')\n"
      ],
      "execution_count": 0,
      "outputs": []
    },
    {
      "cell_type": "code",
      "metadata": {
        "id": "dEKDX99jnFUC",
        "colab_type": "code",
        "outputId": "3224519d-62a2-4242-9f75-c7355e29840c",
        "colab": {
          "base_uri": "https://localhost:8080/",
          "height": 51
        }
      },
      "source": [
        "\n",
        "df1 = pd.read_csv('/content/drive/My Drive/Colab Notebooks/Twitter Data/out2000.csv')\n",
        "df2 = pd.read_csv('/content/drive/My Drive/Colab Notebooks/Twitter Data/out.csv')\n",
        "df12 = pd.concat([df1, df2], verify_integrity=False)\n",
        "print(df12.shape)\n",
        "\n",
        "a = df12.drop_duplicates(subset=['id'], keep='first')\n",
        "print(a.shape)\n",
        "\n"
      ],
      "execution_count": 16,
      "outputs": [
        {
          "output_type": "stream",
          "text": [
            "(4000, 4)\n",
            "(2342, 4)\n"
          ],
          "name": "stdout"
        }
      ]
    }
  ]
}