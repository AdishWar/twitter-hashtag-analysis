{
  "nbformat": 4,
  "nbformat_minor": 0,
  "metadata": {
    "colab": {
      "name": "twitter-hashtag-analysis.ipynb",
      "provenance": [],
      "collapsed_sections": [],
      "authorship_tag": "ABX9TyMv8yVmRD4dtEfVGYt3jSNz",
      "include_colab_link": true
    },
    "kernelspec": {
      "name": "python3",
      "display_name": "Python 3"
    }
  },
  "cells": [
    {
      "cell_type": "markdown",
      "metadata": {
        "id": "view-in-github",
        "colab_type": "text"
      },
      "source": [
        "<a href=\"https://colab.research.google.com/github/AdishWar/twitter-hashtag-analysis/blob/master/twitter_hashtag_analysis.ipynb\" target=\"_parent\"><img src=\"https://colab.research.google.com/assets/colab-badge.svg\" alt=\"Open In Colab\"/></a>"
      ]
    },
    {
      "cell_type": "code",
      "metadata": {
        "id": "a4ASWWAfH45j",
        "colab_type": "code",
        "colab": {}
      },
      "source": [
        "import tweepy\n",
        "import textblob\n",
        "import time\n",
        "\n",
        "apiKey = \"n5DtlHp4ouj99eUxZ4XCctaQG\"\n",
        "apiSecretKey = \"Gjqq6uOJSlY8oyIQ7CurrRJj24zWJv0gVIv1HgEEUfqxDxMo9Q\"\n",
        "accessToken = \"2897708918-gTDZ4ki1RWp5xkrQa5U9U5wGyx6GoeVRfXXH1v5\"\n",
        "accessTokenSecret = \"ALNz1wXvgczsuWOkf1V4ZMMfnYIIQJipss4iQX1yCu6U0\"\n",
        "\n",
        "auth = tweepy.OAuthHandler(apiKey, apiSecretKey)\n",
        "auth.set_access_token(accessToken, accessTokenSecret)\n",
        "api = tweepy.API(auth)"
      ],
      "execution_count": 0,
      "outputs": []
    },
    {
      "cell_type": "code",
      "metadata": {
        "id": "jQGdMlFVfmwR",
        "colab_type": "code",
        "colab": {}
      },
      "source": [
        "tweets = api.search(q=\"#SainajoinsBJP\", count=10, tweet_mode='extended')\n",
        "\n",
        "for tweet in tweets:\n",
        "    print(tweet.user.screen_name)\n",
        "    print(tweet.full_text)\n",
        "    print()\n"
      ],
      "execution_count": 0,
      "outputs": []
    },
    {
      "cell_type": "code",
      "metadata": {
        "id": "KJtqLmBxk66l",
        "colab_type": "code",
        "colab": {}
      },
      "source": [
        "for tweet in tweepy.Cursor(api.user_timeline, tweet_mode='extended').items(20):\n",
        "  print('https://twitter.com/' + tweet.author.screen_name + '/status/' + tweet.id_str)\n",
        "  print(tweet.full_text)\n",
        "  print()"
      ],
      "execution_count": 0,
      "outputs": []
    },
    {
      "cell_type": "code",
      "metadata": {
        "id": "UWjP693yo28Z",
        "colab_type": "code",
        "colab": {
          "base_uri": "https://localhost:8080/",
          "height": 54
        },
        "outputId": "73ce459b-1a1c-46a5-a089-1a4f55e1cb6c"
      },
      "source": [
        "api.update_status('test tweet' + str(time.time()))"
      ],
      "execution_count": 43,
      "outputs": [
        {
          "output_type": "execute_result",
          "data": {
            "text/plain": [
              "Status(_api=<tweepy.api.API object at 0x7f9e34d2e828>, _json={'created_at': 'Wed Jan 29 18:54:04 +0000 2020', 'id': 1222593769641521155, 'id_str': '1222593769641521155', 'text': 'test tweet', 'truncated': False, 'entities': {'hashtags': [], 'symbols': [], 'user_mentions': [], 'urls': []}, 'source': '<a href=\"https://github.com/AdishWar/twitter-hashtag-analysis\" rel=\"nofollow\">adish-hashtag-project</a>', 'in_reply_to_status_id': None, 'in_reply_to_status_id_str': None, 'in_reply_to_user_id': None, 'in_reply_to_user_id_str': None, 'in_reply_to_screen_name': None, 'user': {'id': 2897708918, 'id_str': '2897708918', 'name': 'Adish', 'screen_name': 'adish_war', 'location': 'India', 'description': 'Programmer. Data Science / Machine Learning necromancer.\\nCreative Technology enthusiast.', 'url': None, 'entities': {'description': {'urls': []}}, 'protected': False, 'followers_count': 25, 'friends_count': 25, 'listed_count': 2, 'created_at': 'Wed Nov 12 16:30:46 +0000 2014', 'favourites_count': 3084, 'utc_offset': None, 'time_zone': None, 'geo_enabled': False, 'verified': False, 'statuses_count': 211, 'lang': None, 'contributors_enabled': False, 'is_translator': False, 'is_translation_enabled': False, 'profile_background_color': '000000', 'profile_background_image_url': 'http://abs.twimg.com/images/themes/theme1/bg.png', 'profile_background_image_url_https': 'https://abs.twimg.com/images/themes/theme1/bg.png', 'profile_background_tile': False, 'profile_image_url': 'http://pbs.twimg.com/profile_images/1149195777660477441/prP1Oqkz_normal.png', 'profile_image_url_https': 'https://pbs.twimg.com/profile_images/1149195777660477441/prP1Oqkz_normal.png', 'profile_banner_url': 'https://pbs.twimg.com/profile_banners/2897708918/1573840532', 'profile_link_color': '1B95E0', 'profile_sidebar_border_color': '000000', 'profile_sidebar_fill_color': '000000', 'profile_text_color': '000000', 'profile_use_background_image': False, 'has_extended_profile': True, 'default_profile': False, 'default_profile_image': False, 'can_media_tag': True, 'followed_by': False, 'following': False, 'follow_request_sent': False, 'notifications': False, 'translator_type': 'none'}, 'geo': None, 'coordinates': None, 'place': None, 'contributors': None, 'is_quote_status': False, 'retweet_count': 0, 'favorite_count': 0, 'favorited': False, 'retweeted': False, 'lang': 'fr'}, created_at=datetime.datetime(2020, 1, 29, 18, 54, 4), id=1222593769641521155, id_str='1222593769641521155', text='test tweet', truncated=False, entities={'hashtags': [], 'symbols': [], 'user_mentions': [], 'urls': []}, source='adish-hashtag-project', source_url='https://github.com/AdishWar/twitter-hashtag-analysis', in_reply_to_status_id=None, in_reply_to_status_id_str=None, in_reply_to_user_id=None, in_reply_to_user_id_str=None, in_reply_to_screen_name=None, author=User(_api=<tweepy.api.API object at 0x7f9e34d2e828>, _json={'id': 2897708918, 'id_str': '2897708918', 'name': 'Adish', 'screen_name': 'adish_war', 'location': 'India', 'description': 'Programmer. Data Science / Machine Learning necromancer.\\nCreative Technology enthusiast.', 'url': None, 'entities': {'description': {'urls': []}}, 'protected': False, 'followers_count': 25, 'friends_count': 25, 'listed_count': 2, 'created_at': 'Wed Nov 12 16:30:46 +0000 2014', 'favourites_count': 3084, 'utc_offset': None, 'time_zone': None, 'geo_enabled': False, 'verified': False, 'statuses_count': 211, 'lang': None, 'contributors_enabled': False, 'is_translator': False, 'is_translation_enabled': False, 'profile_background_color': '000000', 'profile_background_image_url': 'http://abs.twimg.com/images/themes/theme1/bg.png', 'profile_background_image_url_https': 'https://abs.twimg.com/images/themes/theme1/bg.png', 'profile_background_tile': False, 'profile_image_url': 'http://pbs.twimg.com/profile_images/1149195777660477441/prP1Oqkz_normal.png', 'profile_image_url_https': 'https://pbs.twimg.com/profile_images/1149195777660477441/prP1Oqkz_normal.png', 'profile_banner_url': 'https://pbs.twimg.com/profile_banners/2897708918/1573840532', 'profile_link_color': '1B95E0', 'profile_sidebar_border_color': '000000', 'profile_sidebar_fill_color': '000000', 'profile_text_color': '000000', 'profile_use_background_image': False, 'has_extended_profile': True, 'default_profile': False, 'default_profile_image': False, 'can_media_tag': True, 'followed_by': False, 'following': False, 'follow_request_sent': False, 'notifications': False, 'translator_type': 'none'}, id=2897708918, id_str='2897708918', name='Adish', screen_name='adish_war', location='India', description='Programmer. Data Science / Machine Learning necromancer.\\nCreative Technology enthusiast.', url=None, entities={'description': {'urls': []}}, protected=False, followers_count=25, friends_count=25, listed_count=2, created_at=datetime.datetime(2014, 11, 12, 16, 30, 46), favourites_count=3084, utc_offset=None, time_zone=None, geo_enabled=False, verified=False, statuses_count=211, lang=None, contributors_enabled=False, is_translator=False, is_translation_enabled=False, profile_background_color='000000', profile_background_image_url='http://abs.twimg.com/images/themes/theme1/bg.png', profile_background_image_url_https='https://abs.twimg.com/images/themes/theme1/bg.png', profile_background_tile=False, profile_image_url='http://pbs.twimg.com/profile_images/1149195777660477441/prP1Oqkz_normal.png', profile_image_url_https='https://pbs.twimg.com/profile_images/1149195777660477441/prP1Oqkz_normal.png', profile_banner_url='https://pbs.twimg.com/profile_banners/2897708918/1573840532', profile_link_color='1B95E0', profile_sidebar_border_color='000000', profile_sidebar_fill_color='000000', profile_text_color='000000', profile_use_background_image=False, has_extended_profile=True, default_profile=False, default_profile_image=False, can_media_tag=True, followed_by=False, following=False, follow_request_sent=False, notifications=False, translator_type='none'), user=User(_api=<tweepy.api.API object at 0x7f9e34d2e828>, _json={'id': 2897708918, 'id_str': '2897708918', 'name': 'Adish', 'screen_name': 'adish_war', 'location': 'India', 'description': 'Programmer. Data Science / Machine Learning necromancer.\\nCreative Technology enthusiast.', 'url': None, 'entities': {'description': {'urls': []}}, 'protected': False, 'followers_count': 25, 'friends_count': 25, 'listed_count': 2, 'created_at': 'Wed Nov 12 16:30:46 +0000 2014', 'favourites_count': 3084, 'utc_offset': None, 'time_zone': None, 'geo_enabled': False, 'verified': False, 'statuses_count': 211, 'lang': None, 'contributors_enabled': False, 'is_translator': False, 'is_translation_enabled': False, 'profile_background_color': '000000', 'profile_background_image_url': 'http://abs.twimg.com/images/themes/theme1/bg.png', 'profile_background_image_url_https': 'https://abs.twimg.com/images/themes/theme1/bg.png', 'profile_background_tile': False, 'profile_image_url': 'http://pbs.twimg.com/profile_images/1149195777660477441/prP1Oqkz_normal.png', 'profile_image_url_https': 'https://pbs.twimg.com/profile_images/1149195777660477441/prP1Oqkz_normal.png', 'profile_banner_url': 'https://pbs.twimg.com/profile_banners/2897708918/1573840532', 'profile_link_color': '1B95E0', 'profile_sidebar_border_color': '000000', 'profile_sidebar_fill_color': '000000', 'profile_text_color': '000000', 'profile_use_background_image': False, 'has_extended_profile': True, 'default_profile': False, 'default_profile_image': False, 'can_media_tag': True, 'followed_by': False, 'following': False, 'follow_request_sent': False, 'notifications': False, 'translator_type': 'none'}, id=2897708918, id_str='2897708918', name='Adish', screen_name='adish_war', location='India', description='Programmer. Data Science / Machine Learning necromancer.\\nCreative Technology enthusiast.', url=None, entities={'description': {'urls': []}}, protected=False, followers_count=25, friends_count=25, listed_count=2, created_at=datetime.datetime(2014, 11, 12, 16, 30, 46), favourites_count=3084, utc_offset=None, time_zone=None, geo_enabled=False, verified=False, statuses_count=211, lang=None, contributors_enabled=False, is_translator=False, is_translation_enabled=False, profile_background_color='000000', profile_background_image_url='http://abs.twimg.com/images/themes/theme1/bg.png', profile_background_image_url_https='https://abs.twimg.com/images/themes/theme1/bg.png', profile_background_tile=False, profile_image_url='http://pbs.twimg.com/profile_images/1149195777660477441/prP1Oqkz_normal.png', profile_image_url_https='https://pbs.twimg.com/profile_images/1149195777660477441/prP1Oqkz_normal.png', profile_banner_url='https://pbs.twimg.com/profile_banners/2897708918/1573840532', profile_link_color='1B95E0', profile_sidebar_border_color='000000', profile_sidebar_fill_color='000000', profile_text_color='000000', profile_use_background_image=False, has_extended_profile=True, default_profile=False, default_profile_image=False, can_media_tag=True, followed_by=False, following=False, follow_request_sent=False, notifications=False, translator_type='none'), geo=None, coordinates=None, place=None, contributors=None, is_quote_status=False, retweet_count=0, favorite_count=0, favorited=False, retweeted=False, lang='fr')"
            ]
          },
          "metadata": {
            "tags": []
          },
          "execution_count": 43
        }
      ]
    }
  ]
}